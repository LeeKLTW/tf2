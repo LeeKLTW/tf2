{
  "nbformat": 4,
  "nbformat_minor": 0,
  "metadata": {
    "colab": {
      "name": "course1w3.ipynb",
      "version": "0.3.2",
      "provenance": [],
      "include_colab_link": true
    },
    "kernelspec": {
      "name": "python3",
      "display_name": "Python 3"
    }
  },
  "cells": [
    {
      "cell_type": "markdown",
      "metadata": {
        "id": "view-in-github",
        "colab_type": "text"
      },
      "source": [
        "<a href=\"https://colab.research.google.com/github/LeeKLTW/tf2/blob/master/course1w3.ipynb\" target=\"_parent\"><img src=\"https://colab.research.google.com/assets/colab-badge.svg\" alt=\"Open In Colab\"/></a>"
      ]
    },
    {
      "cell_type": "code",
      "metadata": {
        "id": "DxWE7uD_Vij6",
        "colab_type": "code",
        "colab": {}
      },
      "source": [
        "import tensorflow as tf\n",
        "from tensorflow import keras"
      ],
      "execution_count": 0,
      "outputs": []
    },
    {
      "cell_type": "code",
      "metadata": {
        "id": "sdXPYgqhWN8B",
        "colab_type": "code",
        "colab": {}
      },
      "source": [
        "(x_train, y_train), (x_test, y_test) = keras.datasets.fashion_mnist.load_data()"
      ],
      "execution_count": 0,
      "outputs": []
    },
    {
      "cell_type": "code",
      "metadata": {
        "id": "R6-gvAE9WOqV",
        "colab_type": "code",
        "colab": {}
      },
      "source": [
        "x_train, x_test = x_train/255., x_test/255."
      ],
      "execution_count": 0,
      "outputs": []
    },
    {
      "cell_type": "code",
      "metadata": {
        "id": "W4qVv1s3WOtV",
        "colab_type": "code",
        "colab": {
          "base_uri": "https://localhost:8080/",
          "height": 51
        },
        "outputId": "6095b8e2-8d87-44db-c199-db1f3f270f0c"
      },
      "source": [
        "model = keras.models.Sequential([keras.layers.Flatten(), \n",
        "                                keras.layers.Dense(128,activation='relu'),\n",
        "                                keras.layers.Dense(10,activation='softmax')])\n",
        "model.compile(loss='sparse_categorical_crossentropy',optimizer='adam',metrics=['accuracy'])\n",
        "model.summary()\n",
        "model.fit(x_train,y_train)"
      ],
      "execution_count": 11,
      "outputs": [
        {
          "output_type": "stream",
          "text": [
            "60000/60000 [==============================] - 9s 149us/sample - loss: 0.5012 - acc: 0.8255\n"
          ],
          "name": "stdout"
        },
        {
          "output_type": "execute_result",
          "data": {
            "text/plain": [
              "<tensorflow.python.keras.callbacks.History at 0x7f63217f5400>"
            ]
          },
          "metadata": {
            "tags": []
          },
          "execution_count": 11
        }
      ]
    },
    {
      "cell_type": "code",
      "metadata": {
        "id": "4mRx7Wq0b8Ws",
        "colab_type": "code",
        "colab": {}
      },
      "source": [
        "# x_train = np.expand_dims(x_train,-1)\n",
        "# x_test = np.expand_dims(x_test,-1)\n",
        "x_train = x_train.reshape(-1,28,28,1)\n",
        "x_test = x_test.reshape(-1,28,28,1)"
      ],
      "execution_count": 0,
      "outputs": []
    },
    {
      "cell_type": "code",
      "metadata": {
        "id": "25boASi1WOwN",
        "colab_type": "code",
        "colab": {
          "base_uri": "https://localhost:8080/",
          "height": 51
        },
        "outputId": "413d0a32-aa2c-4498-b8bd-aedb038cbca8"
      },
      "source": [
        "print('shape of train',x_train.shape)\n",
        "print('shape of test',x_test.shape)"
      ],
      "execution_count": 21,
      "outputs": [
        {
          "output_type": "stream",
          "text": [
            "shape of train (60000, 28, 28, 1)\n",
            "shape of test (10000, 28, 28, 1)\n"
          ],
          "name": "stdout"
        }
      ]
    },
    {
      "cell_type": "code",
      "metadata": {
        "id": "lUF_EsjlWOzB",
        "colab_type": "code",
        "colab": {
          "base_uri": "https://localhost:8080/",
          "height": 374
        },
        "outputId": "53af4187-fb64-49da-c508-80a8dff982ed"
      },
      "source": [
        "model = keras.models.Sequential([keras.layers.Conv2D(filters=64, kernel_size=(3,3), strides=(1, 1), padding='valid',activation=tf.nn.relu,input_shape=(28,28,1)),\n",
        "                                 keras.layers.MaxPooling2D(pool_size=(2, 2)),\n",
        "                                 keras.layers.Conv2D(filters=64, kernel_size=(3,3), strides=(1, 1), padding='valid',activation=tf.nn.relu),\n",
        "                                 keras.layers.MaxPooling2D(pool_size=(2, 2)),\n",
        "                                 keras.layers.Flatten(),\n",
        "                                 keras.layers.Dense(256,activation='relu'),\n",
        "                                 keras.layers.Dense(10,activation='softmax')\n",
        "                                ])\n",
        "model.compile(loss='sparse_categorical_crossentropy', optimizer=tf.train.AdamOptimizer(),metrics=['accuracy'])\n",
        "model.summary()\n"
      ],
      "execution_count": 15,
      "outputs": [
        {
          "output_type": "stream",
          "text": [
            "_________________________________________________________________\n",
            "Layer (type)                 Output Shape              Param #   \n",
            "=================================================================\n",
            "conv2d (Conv2D)              (None, 26, 26, 64)        640       \n",
            "_________________________________________________________________\n",
            "max_pooling2d (MaxPooling2D) (None, 13, 13, 64)        0         \n",
            "_________________________________________________________________\n",
            "conv2d_1 (Conv2D)            (None, 11, 11, 64)        36928     \n",
            "_________________________________________________________________\n",
            "max_pooling2d_1 (MaxPooling2 (None, 5, 5, 64)          0         \n",
            "_________________________________________________________________\n",
            "flatten_4 (Flatten)          (None, 1600)              0         \n",
            "_________________________________________________________________\n",
            "dense_6 (Dense)              (None, 256)               409856    \n",
            "_________________________________________________________________\n",
            "dense_7 (Dense)              (None, 10)                2570      \n",
            "=================================================================\n",
            "Total params: 449,994\n",
            "Trainable params: 449,994\n",
            "Non-trainable params: 0\n",
            "_________________________________________________________________\n"
          ],
          "name": "stdout"
        }
      ]
    },
    {
      "cell_type": "code",
      "metadata": {
        "id": "ibiLSQluWO1p",
        "colab_type": "code",
        "colab": {
          "base_uri": "https://localhost:8080/",
          "height": 374
        },
        "outputId": "eb6ab44d-a82d-43ee-d931-ca790c2abe9f"
      },
      "source": [
        "model.fit(x_train,y_train,epochs=10)"
      ],
      "execution_count": 22,
      "outputs": [
        {
          "output_type": "stream",
          "text": [
            "Epoch 1/10\n",
            "60000/60000 [==============================] - 107s 2ms/sample - loss: 0.4254 - acc: 0.8451\n",
            "Epoch 2/10\n",
            "60000/60000 [==============================] - 106s 2ms/sample - loss: 0.2843 - acc: 0.8954\n",
            "Epoch 3/10\n",
            "60000/60000 [==============================] - 107s 2ms/sample - loss: 0.2373 - acc: 0.9121\n",
            "Epoch 4/10\n",
            "60000/60000 [==============================] - 107s 2ms/sample - loss: 0.2032 - acc: 0.9241\n",
            "Epoch 5/10\n",
            "60000/60000 [==============================] - 107s 2ms/sample - loss: 0.1760 - acc: 0.9350\n",
            "Epoch 6/10\n",
            "60000/60000 [==============================] - 108s 2ms/sample - loss: 0.1511 - acc: 0.9431\n",
            "Epoch 7/10\n",
            "60000/60000 [==============================] - 108s 2ms/sample - loss: 0.1288 - acc: 0.9515\n",
            "Epoch 8/10\n",
            "60000/60000 [==============================] - 108s 2ms/sample - loss: 0.1116 - acc: 0.9579\n",
            "Epoch 9/10\n",
            "60000/60000 [==============================] - 108s 2ms/sample - loss: 0.0959 - acc: 0.9641\n",
            "Epoch 10/10\n",
            "60000/60000 [==============================] - 108s 2ms/sample - loss: 0.0829 - acc: 0.9683\n"
          ],
          "name": "stdout"
        },
        {
          "output_type": "execute_result",
          "data": {
            "text/plain": [
              "<tensorflow.python.keras.callbacks.History at 0x7f6321c54e80>"
            ]
          },
          "metadata": {
            "tags": []
          },
          "execution_count": 22
        }
      ]
    },
    {
      "cell_type": "code",
      "metadata": {
        "id": "CnclHw7tWO4V",
        "colab_type": "code",
        "colab": {
          "base_uri": "https://localhost:8080/",
          "height": 51
        },
        "outputId": "8d402332-8fb0-46f2-dcf6-91f85e57b2eb"
      },
      "source": [
        "model.evaluate(x_test,y_test)"
      ],
      "execution_count": 24,
      "outputs": [
        {
          "output_type": "stream",
          "text": [
            "10000/10000 [==============================] - 5s 498us/sample - loss: 0.3322 - acc: 0.9131\n"
          ],
          "name": "stdout"
        },
        {
          "output_type": "execute_result",
          "data": {
            "text/plain": [
              "[0.332242550291121, 0.9131]"
            ]
          },
          "metadata": {
            "tags": []
          },
          "execution_count": 24
        }
      ]
    },
    {
      "cell_type": "code",
      "metadata": {
        "id": "5GFdMuKKWO7A",
        "colab_type": "code",
        "colab": {}
      },
      "source": [
        ""
      ],
      "execution_count": 0,
      "outputs": []
    },
    {
      "cell_type": "code",
      "metadata": {
        "id": "6XfEpJjhWO97",
        "colab_type": "code",
        "colab": {}
      },
      "source": [
        ""
      ],
      "execution_count": 0,
      "outputs": []
    }
  ]
}